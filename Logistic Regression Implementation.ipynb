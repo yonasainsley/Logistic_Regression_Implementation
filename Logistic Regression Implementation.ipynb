{
  "nbformat": 4,
  "nbformat_minor": 0,
  "metadata": {
    "colab": {
      "name": "uasML - LogisticRegression - no.4.ipynb",
      "provenance": [],
      "collapsed_sections": []
    },
    "kernelspec": {
      "name": "python3",
      "display_name": "Python 3"
    },
    "language_info": {
      "name": "python"
    }
  },
  "cells": [
    {
      "cell_type": "code",
      "metadata": {
        "id": "j7d4SZuz_27m"
      },
      "source": [
        "import numpy as np\n",
        "import pandas as pd\n",
        "from sklearn.model_selection import train_test_split\n",
        "from sklearn.metrics import confusion_matrix\n",
        "from sklearn.preprocessing import StandardScaler"
      ],
      "execution_count": null,
      "outputs": []
    },
    {
      "cell_type": "markdown",
      "metadata": {
        "id": "HtjLsVETSgmL"
      },
      "source": [
        "#Load Data"
      ]
    },
    {
      "cell_type": "code",
      "metadata": {
        "id": "G3E2lzM0FrD9"
      },
      "source": [
        "training_data = {\n",
        "    'gmat':[780, 750, 690, 710, 680, 730, 690, 720, 740, 690, 610, 690, 710, 680, 770, 610, 580, 650, 540, 590, 620, 600, 550, 550, 570, 670, 660, 580, 650, 660, 640, 620, 660, 660, 680, 650, 670, 580, 590, 690],\n",
        "    'gpa':[4, 3.9, 3.3, 3.7, 3.9, 3.7, 2.3, 3.3, 3.3, 1.7, 2.7, 3.7, 3.7, 3.3, 3.3, 3, 2.7, 3.7, 2.7, 2.3, 3.3, 2, 2.3, 2.7, 3, 3.3, 3.7, 2.3, 3.7, 3.3, 3, 2.7, 4, 3.3, 3.3, 2.3, 2.7, 3.3, 1.7, 2.7],\n",
        "    'work_experience':[3, 4, 3, 5, 4, 6, 1, 4, 5, 1, 3, 5, 6, 4, 3, 1, 4, 6, 2, 3, 2, 1, 4, 1, 2, 6, 4, 2, 6, 5, 1, 2, 4, 6, 5, 1, 2, 1, 4, 5],\n",
        "    'admitted':[1, 1, 0, 1, 0, 1, 0, 1, 1, 0, 0, 1, 1, 0, 1, 0, 0, 1, 0, 0, 1, 0, 0, 0, 0, 1, 1, 0, 1, 1, 0, 0, 1, 1, 1, 0, 0, 0, 0, 1]\n",
        "}\n",
        "prediction_data = {\n",
        "    'gmat':[590, 740, 680, 610, 710],\n",
        "    'gpa':[2, 3.7, 3.3, 2.3, 3],\n",
        "    'work_experience':[3, 4, 6, 1, 5]\n",
        "}"
      ],
      "execution_count": null,
      "outputs": []
    },
    {
      "cell_type": "code",
      "metadata": {
        "id": "XBplEdhzHgHK"
      },
      "source": [
        "training_dataset = pd.DataFrame(training_data)\n",
        "prediction_data = pd.DataFrame(prediction_data)"
      ],
      "execution_count": null,
      "outputs": []
    },
    {
      "cell_type": "code",
      "metadata": {
        "colab": {
          "base_uri": "https://localhost:8080/"
        },
        "id": "A-SPU-k3NMGq",
        "outputId": "2f4c2f9f-4f51-4d34-bae6-b70fc51610cd"
      },
      "source": [
        "training_dataset.dtypes"
      ],
      "execution_count": null,
      "outputs": [
        {
          "output_type": "execute_result",
          "data": {
            "text/plain": [
              "gmat                 int64\n",
              "gpa                float64\n",
              "work_experience      int64\n",
              "admitted             int64\n",
              "dtype: object"
            ]
          },
          "metadata": {
            "tags": []
          },
          "execution_count": 4
        }
      ]
    },
    {
      "cell_type": "code",
      "metadata": {
        "id": "hW0Fob2bMQtL"
      },
      "source": [
        "label = training_dataset['admitted']\n",
        "feature = training_dataset.drop('admitted', axis=1)"
      ],
      "execution_count": null,
      "outputs": []
    },
    {
      "cell_type": "markdown",
      "metadata": {
        "id": "_y599TCOSiq4"
      },
      "source": [
        "#Preprocessing"
      ]
    },
    {
      "cell_type": "code",
      "metadata": {
        "id": "oAvjX6gbHdQq"
      },
      "source": [
        "x_train, x_val, y_train, y_val = train_test_split(feature, label, test_size = 0.2, random_state = 0)"
      ],
      "execution_count": null,
      "outputs": []
    },
    {
      "cell_type": "code",
      "metadata": {
        "id": "xDhTqlytNxiW"
      },
      "source": [
        "x_train = np.array(x_train)\n",
        "x_val = np.array(x_val)\n",
        "y_train = np.array(y_train)\n",
        "y_val = np.array(y_val)\n",
        "prediction_data = np.array(prediction_data)"
      ],
      "execution_count": null,
      "outputs": []
    },
    {
      "cell_type": "code",
      "metadata": {
        "id": "g-t2jmM7YpGP"
      },
      "source": [
        "scaler = StandardScaler().fit(x_train)\n",
        "x_train = scaler.transform(x_train)\n",
        "x_val = scaler.transform(x_val)\n",
        "prediction_data = scaler.transform(prediction_data)"
      ],
      "execution_count": null,
      "outputs": []
    },
    {
      "cell_type": "markdown",
      "metadata": {
        "id": "vmY2ysgrSkkh"
      },
      "source": [
        "#Building the Model"
      ]
    },
    {
      "cell_type": "code",
      "metadata": {
        "id": "2zOzt1LaCN5Y"
      },
      "source": [
        "def sigmoid(x):\n",
        "    return 1 / (1 + np.exp(-x))"
      ],
      "execution_count": null,
      "outputs": []
    },
    {
      "cell_type": "code",
      "metadata": {
        "id": "OXmwaaohCXQ2"
      },
      "source": [
        "class LogisticRegression(object):\n",
        "    def __init__(self, learning_rate, num_steps):\n",
        "        self.learning_rate = learning_rate\n",
        "        self.num_steps = num_steps\n",
        "        self.w = None\n",
        "        self.X = None\n",
        "        self.Y = None\n",
        "\n",
        "    def _predict_single_point(self, x):\n",
        "        return sigmoid(np.dot(self.w, x))\n",
        "\n",
        "    def _gradient(self):\n",
        "        return sum([x*(self._predict_single_point(x) - y) for x,y in zip(self.X, self.Y)])\n",
        "\n",
        "    def fit(self, X, Y):\n",
        "        self.X = X\n",
        "        self.Y = Y\n",
        "        self.w = np.random.random(self.X.shape[1])\n",
        "        for i in range(self.num_steps):\n",
        "            gradient = self._gradient()\n",
        "            self.w = self.w - self.learning_rate*gradient\n",
        "\n",
        "    def predict(self, X_new):\n",
        "        return [int(self._predict_single_point(x) > 0.5) for x in X_new]"
      ],
      "execution_count": null,
      "outputs": []
    },
    {
      "cell_type": "markdown",
      "metadata": {
        "id": "4Ea-V5v7Sn8J"
      },
      "source": [
        "#Training"
      ]
    },
    {
      "cell_type": "code",
      "metadata": {
        "id": "WFxawBsrE86k"
      },
      "source": [
        "lr = LogisticRegression(0.001, num_steps = 100)"
      ],
      "execution_count": null,
      "outputs": []
    },
    {
      "cell_type": "code",
      "metadata": {
        "id": "CwmRNiGOFEwI"
      },
      "source": [
        "lr.fit(x_train, y_train)"
      ],
      "execution_count": null,
      "outputs": []
    },
    {
      "cell_type": "markdown",
      "metadata": {
        "id": "yNMS7apRSrZP"
      },
      "source": [
        "#Validation Evaluation"
      ]
    },
    {
      "cell_type": "code",
      "metadata": {
        "colab": {
          "base_uri": "https://localhost:8080/"
        },
        "id": "JGA2EQ9SFKBA",
        "outputId": "58c0c1a5-6c4e-4ee3-a51f-3e3baf12710b"
      },
      "source": [
        "val = lr.predict(x_val)\n",
        "print(f'Validation Prediction: {val}')\n",
        "print(f'Actual Validation Label: {y_val}')"
      ],
      "execution_count": null,
      "outputs": [
        {
          "output_type": "stream",
          "text": [
            "Validation Prediction: [0, 0, 1, 1, 0, 0, 1, 1]\n",
            "Actual Validation Label: [0 1 1 0 0 0 1 1]\n"
          ],
          "name": "stdout"
        }
      ]
    },
    {
      "cell_type": "code",
      "metadata": {
        "colab": {
          "base_uri": "https://localhost:8080/"
        },
        "id": "5HpH5lmoQqTm",
        "outputId": "a012e65c-bbf7-44b7-eb9b-e9963b942f1f"
      },
      "source": [
        "cm = confusion_matrix(y_val, val, labels=[1, 0])\n",
        "print(f'Confusion Matrix: \\n{cm}\\n 6/8 predictions correct')"
      ],
      "execution_count": null,
      "outputs": [
        {
          "output_type": "stream",
          "text": [
            "Confusion Matrix: \n",
            "[[3 1]\n",
            " [1 3]]\n",
            " 6/8 predictions correct\n"
          ],
          "name": "stdout"
        }
      ]
    },
    {
      "cell_type": "code",
      "metadata": {
        "colab": {
          "base_uri": "https://localhost:8080/"
        },
        "id": "oFfMKY8sFT2j",
        "outputId": "23d08f32-361d-4f2b-9b7c-0fc75291103b"
      },
      "source": [
        "acc = sum(val == y_val) / len(y_val)\n",
        "print(f'Validation Accuracy: {acc*100}%')"
      ],
      "execution_count": null,
      "outputs": [
        {
          "output_type": "stream",
          "text": [
            "Validation Accuracy: 75.0%\n"
          ],
          "name": "stdout"
        }
      ]
    },
    {
      "cell_type": "markdown",
      "metadata": {
        "id": "juALfe_9SvzK"
      },
      "source": [
        "#Test Data Prediction"
      ]
    },
    {
      "cell_type": "code",
      "metadata": {
        "colab": {
          "base_uri": "https://localhost:8080/"
        },
        "id": "M_ZLlkxHFam-",
        "outputId": "b0d1ded7-ac3f-41e8-cc02-7ba6c3bb65fc"
      },
      "source": [
        "pred = lr.predict(prediction_data)\n",
        "print(f'Prediction for Test Data: {pred}')"
      ],
      "execution_count": null,
      "outputs": [
        {
          "output_type": "stream",
          "text": [
            "Prediction for Test Data: [0, 1, 1, 0, 1]\n"
          ],
          "name": "stdout"
        }
      ]
    }
  ]
}